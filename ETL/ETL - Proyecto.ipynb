{
  "nbformat": 4,
  "nbformat_minor": 0,
  "metadata": {
    "colab": {
      "provenance": [],
      "authorship_tag": "ABX9TyP9Wdg8zAlV3V15ZaY07kij",
      "include_colab_link": true
    },
    "kernelspec": {
      "name": "python3",
      "display_name": "Python 3"
    },
    "language_info": {
      "name": "python"
    }
  },
  "cells": [
    {
      "cell_type": "markdown",
      "metadata": {
        "id": "view-in-github",
        "colab_type": "text"
      },
      "source": [
        "<a href=\"https://colab.research.google.com/github/LinaPenaC/Ing_Datos_LinaP/blob/main/ETL%20-%20Proyecto.ipynb\" target=\"_parent\"><img src=\"https://colab.research.google.com/assets/colab-badge.svg\" alt=\"Open In Colab\"/></a>"
      ]
    },
    {
      "cell_type": "code",
      "execution_count": 17,
      "metadata": {
        "colab": {
          "base_uri": "https://localhost:8080/"
        },
        "id": "IvRdPuGBxeSH",
        "outputId": "8841f177-cb71-4cdf-c6f9-3420f994bebc"
      },
      "outputs": [
        {
          "output_type": "stream",
          "name": "stdout",
          "text": [
            "          Nit                            Nombre Contacto  \\\n",
            "0   092193950                    MELIDA FUENTES      NaN   \n",
            "1         100                          PORTADOR      NaN   \n",
            "2  1001197806  ANGARITA  TORRES JAVIER LEONARDO      NaN   \n",
            "3  10015627-1             JOHN JAIR RIOS CASTRO      NaN   \n",
            "4  1002300530           YEISON ESTUPIÑAN TORRES      NaN   \n",
            "\n",
            "               Direccion    Telefono  Ciudad  Apartado  Zona Tipo  Diasdcto  \\\n",
            "0                    NaN  3138015177     NaN       NaN   NaN  NaN         0   \n",
            "1                    NaN         NaN  BOGOTA       NaN   NaN  NaN         0   \n",
            "2                    NaN         NaN     NaN       NaN   NaN  NaN         0   \n",
            "3  CRA 10 N.10-53 OF.511     2844058  BOGOTA       NaN   NaN  NaN         0   \n",
            "4       CL 75 C SUR 4 24  3208111205  BOGOTA       NaN   NaN  NaN         0   \n",
            "\n",
            "   ...  Vendedor     Nitppal  R1  R2  Listap  Grancontri  I2  \\\n",
            "0  ...       NaN   092193950   0   0       0           0   0   \n",
            "1  ...       NaN         100   0   0       0           0   0   \n",
            "2  ...       NaN         NaN   0   0       0           0   0   \n",
            "3  ...       NaN  10015627-1   0   0       0           0   0   \n",
            "4  ...       NaN  1002300530   0   0       0           0   0   \n",
            "\n",
            "                         Email Homepage Inactivo  \n",
            "0         melidapin4@gmail.com      NaN        0  \n",
            "1                          NaN      NaN        0  \n",
            "2                          NaN      NaN        0  \n",
            "3                          NaN      NaN        0  \n",
            "4  yeisonestupinan47@gmail.com      NaN        0  \n",
            "\n",
            "[5 rows x 34 columns]\n"
          ]
        }
      ],
      "source": [
        "import pandas as pd\n",
        "\n",
        "# Cargar archivo Excel\n",
        "archivo = \"NEWDATA.xlsx\"\n",
        "df = pd.read_excel(archivo, sheet_name=\"clientes\")\n",
        "\n",
        "# Mostrar las primeras filas\n",
        "print(df.head())\n"
      ]
    },
    {
      "cell_type": "code",
      "source": [
        "# 1. Eliminar columnas innecesarias\n",
        "columnas_a_eliminar = [\"Contacto\", \"Apartado\", \"Zona\", \"Tipo\", \"Nfacturas\", \"Dctopp\", \"Interes\", \"Cupo\", \"Vendedor\",\n",
        "                   \"Inactivo\",\"Saldo\", \"Pesosvtas\", \"Dctoccial\", \"Tel 2\", \"R1\", \"R2\", \"Listap\", \"I2\", \"Homepage\"]\n",
        "df_limpio = df.drop(columns=columnas_a_eliminar)\n",
        "\n",
        "# 2. Rellenar valores nulos en columnas\n",
        "df_limpio[\"Direccion\"].fillna(\"Desconocida\", inplace=True)\n",
        "df_limpio[\"Ciudad\"].fillna(\"No registrado\", inplace=True)\n",
        "df_limpio[\"Telefono\"].fillna(\"No disponible\", inplace=True)\n",
        "df_limpio[\"Email\"].fillna(\"No registrado\", inplace=True)\n",
        "df_limpio[\"Regimen\"].fillna(\"N/A\", inplace=True)\n",
        "df_limpio[\"Nitppal\"].fillna(\"No registrado\", inplace=True)\n",
        "\n",
        "\n",
        "# 3. Convertir datos a tipos adecuados\n",
        "df_limpio[\"Nit\"] = df_limpio[\"Nit\"].astype(str)  # Convertir NIT a texto\n",
        "df_limpio[\"Fax\"] = df_limpio[\"Fax\"].astype(str)  # Convertir Fax a texto\n",
        "df_limpio[\"Fax\"].fillna(\"No registrado\", inplace=True) # Rellenar vacios Fax\n",
        "df_limpio[\"Email\"] = df_limpio[\"Email\"].str.lower() # Poner e-mails en minúscula\n",
        "\n",
        "# 4. Renombrar las columnas\n",
        "df_limpio.rename(columns={\"Direccion\": \"Dirección\", \"Telefono\": \"Teléfono\"}, inplace=True)\n",
        "\n",
        "# Mostrar el DataFrame limpio\n",
        "print(df_limpio.head())\n"
      ],
      "metadata": {
        "colab": {
          "base_uri": "https://localhost:8080/"
        },
        "id": "L5qaXESpxqgM",
        "outputId": "ad44b842-fdff-4b16-81a0-c48d7f7c3dbf"
      },
      "execution_count": 18,
      "outputs": [
        {
          "output_type": "stream",
          "name": "stdout",
          "text": [
            "          Nit                            Nombre              Dirección  \\\n",
            "0   092193950                    MELIDA FUENTES            Desconocida   \n",
            "1         100                          PORTADOR            Desconocida   \n",
            "2  1001197806  ANGARITA  TORRES JAVIER LEONARDO            Desconocida   \n",
            "3  10015627-1             JOHN JAIR RIOS CASTRO  CRA 10 N.10-53 OF.511   \n",
            "4  1002300530           YEISON ESTUPIÑAN TORRES       CL 75 C SUR 4 24   \n",
            "\n",
            "        Teléfono         Ciudad  Diasdcto  Plazo       Ufvta Regimen  \\\n",
            "0     3138015177  No registrado         0      0  2022-03-09       C   \n",
            "1  No disponible         BOGOTA         0      0         NaN     N/A   \n",
            "2  No disponible  No registrado         0      0  2024-02-01     N/A   \n",
            "3        2844058         BOGOTA         0      0  2021-09-23     N/A   \n",
            "4     3208111205         BOGOTA         0      0  2021-02-06       C   \n",
            "\n",
            "      Ingreso  Fax  Tel2        Nitppal  Grancontri  \\\n",
            "0  2022-03-12  nan   NaN      092193950           0   \n",
            "1         NaN  nan   NaN            100           0   \n",
            "2         NaN  nan   NaN  No registrado           0   \n",
            "3         NaN  nan   NaN     10015627-1           0   \n",
            "4         NaN  nan   NaN     1002300530           0   \n",
            "\n",
            "                         Email  \n",
            "0         melidapin4@gmail.com  \n",
            "1                no registrado  \n",
            "2                no registrado  \n",
            "3                no registrado  \n",
            "4  yeisonestupinan47@gmail.com  \n"
          ]
        },
        {
          "output_type": "stream",
          "name": "stderr",
          "text": [
            "<ipython-input-18-8accb6112eb3>:7: FutureWarning: A value is trying to be set on a copy of a DataFrame or Series through chained assignment using an inplace method.\n",
            "The behavior will change in pandas 3.0. This inplace method will never work because the intermediate object on which we are setting values always behaves as a copy.\n",
            "\n",
            "For example, when doing 'df[col].method(value, inplace=True)', try using 'df.method({col: value}, inplace=True)' or df[col] = df[col].method(value) instead, to perform the operation inplace on the original object.\n",
            "\n",
            "\n",
            "  df_limpio[\"Direccion\"].fillna(\"Desconocida\", inplace=True)\n",
            "<ipython-input-18-8accb6112eb3>:8: FutureWarning: A value is trying to be set on a copy of a DataFrame or Series through chained assignment using an inplace method.\n",
            "The behavior will change in pandas 3.0. This inplace method will never work because the intermediate object on which we are setting values always behaves as a copy.\n",
            "\n",
            "For example, when doing 'df[col].method(value, inplace=True)', try using 'df.method({col: value}, inplace=True)' or df[col] = df[col].method(value) instead, to perform the operation inplace on the original object.\n",
            "\n",
            "\n",
            "  df_limpio[\"Ciudad\"].fillna(\"No registrado\", inplace=True)\n",
            "<ipython-input-18-8accb6112eb3>:9: FutureWarning: A value is trying to be set on a copy of a DataFrame or Series through chained assignment using an inplace method.\n",
            "The behavior will change in pandas 3.0. This inplace method will never work because the intermediate object on which we are setting values always behaves as a copy.\n",
            "\n",
            "For example, when doing 'df[col].method(value, inplace=True)', try using 'df.method({col: value}, inplace=True)' or df[col] = df[col].method(value) instead, to perform the operation inplace on the original object.\n",
            "\n",
            "\n",
            "  df_limpio[\"Telefono\"].fillna(\"No disponible\", inplace=True)\n",
            "<ipython-input-18-8accb6112eb3>:10: FutureWarning: A value is trying to be set on a copy of a DataFrame or Series through chained assignment using an inplace method.\n",
            "The behavior will change in pandas 3.0. This inplace method will never work because the intermediate object on which we are setting values always behaves as a copy.\n",
            "\n",
            "For example, when doing 'df[col].method(value, inplace=True)', try using 'df.method({col: value}, inplace=True)' or df[col] = df[col].method(value) instead, to perform the operation inplace on the original object.\n",
            "\n",
            "\n",
            "  df_limpio[\"Email\"].fillna(\"No registrado\", inplace=True)\n",
            "<ipython-input-18-8accb6112eb3>:11: FutureWarning: A value is trying to be set on a copy of a DataFrame or Series through chained assignment using an inplace method.\n",
            "The behavior will change in pandas 3.0. This inplace method will never work because the intermediate object on which we are setting values always behaves as a copy.\n",
            "\n",
            "For example, when doing 'df[col].method(value, inplace=True)', try using 'df.method({col: value}, inplace=True)' or df[col] = df[col].method(value) instead, to perform the operation inplace on the original object.\n",
            "\n",
            "\n",
            "  df_limpio[\"Regimen\"].fillna(\"N/A\", inplace=True)\n",
            "<ipython-input-18-8accb6112eb3>:12: FutureWarning: A value is trying to be set on a copy of a DataFrame or Series through chained assignment using an inplace method.\n",
            "The behavior will change in pandas 3.0. This inplace method will never work because the intermediate object on which we are setting values always behaves as a copy.\n",
            "\n",
            "For example, when doing 'df[col].method(value, inplace=True)', try using 'df.method({col: value}, inplace=True)' or df[col] = df[col].method(value) instead, to perform the operation inplace on the original object.\n",
            "\n",
            "\n",
            "  df_limpio[\"Nitppal\"].fillna(\"No registrado\", inplace=True)\n",
            "<ipython-input-18-8accb6112eb3>:18: FutureWarning: A value is trying to be set on a copy of a DataFrame or Series through chained assignment using an inplace method.\n",
            "The behavior will change in pandas 3.0. This inplace method will never work because the intermediate object on which we are setting values always behaves as a copy.\n",
            "\n",
            "For example, when doing 'df[col].method(value, inplace=True)', try using 'df.method({col: value}, inplace=True)' or df[col] = df[col].method(value) instead, to perform the operation inplace on the original object.\n",
            "\n",
            "\n",
            "  df_limpio[\"Fax\"].fillna(\"No registrado\", inplace=True) # Rellenar vacios Fax\n"
          ]
        }
      ]
    },
    {
      "cell_type": "code",
      "source": [
        "# Guardar en CSV\n",
        "df_limpio.to_csv(\"clientes_limpios.csv\", index=False)\n",
        "\n",
        "print(\"Archivos exportados correctamente.\")\n"
      ],
      "metadata": {
        "colab": {
          "base_uri": "https://localhost:8080/"
        },
        "id": "xTkpc8mVxrM-",
        "outputId": "8898cadf-d9d0-4ee6-f2dc-db276ad833e0"
      },
      "execution_count": 19,
      "outputs": [
        {
          "output_type": "stream",
          "name": "stdout",
          "text": [
            "✅ Archivos exportados correctamente.\n"
          ]
        }
      ]
    },
    {
      "cell_type": "code",
      "source": [
        "import sqlite3\n",
        "\n",
        "# Crear base de datos\n",
        "conn = sqlite3.connect(\"clientes.db\")\n",
        "\n",
        "# Guardar los datos en tabla \"clientes\"\n",
        "df_limpio.to_sql(\"clientes\", conn, if_exists=\"replace\", index=False)\n",
        "\n",
        "print(\"Datos guardados en SQLite.\")\n"
      ],
      "metadata": {
        "colab": {
          "base_uri": "https://localhost:8080/"
        },
        "id": "3miOxcLzxtnP",
        "outputId": "e9cd4914-1ba0-4849-9440-95b0a5d69bb5"
      },
      "execution_count": 20,
      "outputs": [
        {
          "output_type": "stream",
          "name": "stdout",
          "text": [
            "✅ Datos guardados en SQLite.\n"
          ]
        }
      ]
    }
  ]
}